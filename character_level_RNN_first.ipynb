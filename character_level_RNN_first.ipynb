{
  "nbformat": 4,
  "nbformat_minor": 0,
  "metadata": {
    "colab": {
      "name": "character_level_RNN_first.ipynb",
      "provenance": [],
      "include_colab_link": true
    },
    "kernelspec": {
      "name": "python3",
      "display_name": "Python 3"
    },
    "accelerator": "GPU"
  },
  "cells": [
    {
      "cell_type": "markdown",
      "metadata": {
        "id": "view-in-github",
        "colab_type": "text"
      },
      "source": [
        "<a href=\"https://colab.research.google.com/github/nilakshi104/Classifying-name-with-character-level-RNN/blob/master/character_level_RNN_first.ipynb\" target=\"_parent\"><img src=\"https://colab.research.google.com/assets/colab-badge.svg\" alt=\"Open In Colab\"/></a>"
      ]
    },
    {
      "cell_type": "code",
      "metadata": {
        "id": "En-mQXrTr8Rr",
        "colab_type": "code",
        "colab": {
          "base_uri": "https://localhost:8080/",
          "height": 124
        },
        "outputId": "6f790560-5d3e-4c21-9634-fde357445ae8"
      },
      "source": [
        "from google.colab import drive\n",
        "drive.mount('/content/drive')"
      ],
      "execution_count": null,
      "outputs": [
        {
          "output_type": "stream",
          "text": [
            "Go to this URL in a browser: https://accounts.google.com/o/oauth2/auth?client_id=947318989803-6bn6qk8qdgf4n4g3pfee6491hc0brc4i.apps.googleusercontent.com&redirect_uri=urn%3aietf%3awg%3aoauth%3a2.0%3aoob&response_type=code&scope=email%20https%3a%2f%2fwww.googleapis.com%2fauth%2fdocs.test%20https%3a%2f%2fwww.googleapis.com%2fauth%2fdrive%20https%3a%2f%2fwww.googleapis.com%2fauth%2fdrive.photos.readonly%20https%3a%2f%2fwww.googleapis.com%2fauth%2fpeopleapi.readonly\n",
            "\n",
            "Enter your authorization code:\n",
            "··········\n",
            "Mounted at /content/drive\n"
          ],
          "name": "stdout"
        }
      ]
    },
    {
      "cell_type": "code",
      "metadata": {
        "id": "pgKpVih22X0f",
        "colab_type": "code",
        "colab": {}
      },
      "source": [
        "from __future__ import unicode_literals,print_function,division\n",
        "from io import open\n",
        "import glob\n",
        "import os\n",
        "import unicodedata\n",
        "import string\n",
        "import torch\n",
        "import torch.nn as nn"
      ],
      "execution_count": null,
      "outputs": []
    },
    {
      "cell_type": "code",
      "metadata": {
        "id": "1_YtbJBR5dcI",
        "colab_type": "code",
        "colab": {}
      },
      "source": [
        "path='/content/drive/My Drive/data/character level RNN/data/names/*.txt'\n",
        "path1='/content/drive/My Drive/data/character level RNN/data/names/Arabic.txt'"
      ],
      "execution_count": null,
      "outputs": []
    },
    {
      "cell_type": "code",
      "metadata": {
        "id": "VaTNdG_S-mW5",
        "colab_type": "code",
        "colab": {
          "base_uri": "https://localhost:8080/",
          "height": 34
        },
        "outputId": "2e566b9f-0c0e-4fc5-9886-2b92dd18397b"
      },
      "source": [
        "all_letters=string.ascii_letters+\" .,;'\"\n",
        "n_letters=len(all_letters)\n",
        "n_letters"
      ],
      "execution_count": null,
      "outputs": [
        {
          "output_type": "execute_result",
          "data": {
            "text/plain": [
              "57"
            ]
          },
          "metadata": {
            "tags": []
          },
          "execution_count": 20
        }
      ]
    },
    {
      "cell_type": "code",
      "metadata": {
        "id": "jiEDSQwK5sB7",
        "colab_type": "code",
        "colab": {}
      },
      "source": [
        "all_categories=[]\n",
        "category_lines={}\n",
        "\n",
        "def readLines(filename):\n",
        "    lines = open(filename, encoding='utf-8').read().strip().split('\\n')\n",
        "    return lines\n",
        "\n",
        "for filename in glob.glob(path):\n",
        "  category=filename.split('/')[-1].split('.')[0]\n",
        "  all_categories.append(category)\n",
        "  lines=readLines(filename)\n",
        "  category_lines[category]=lines\n",
        "\n",
        "n_categories = len(all_categories)\n"
      ],
      "execution_count": null,
      "outputs": []
    },
    {
      "cell_type": "code",
      "metadata": {
        "id": "zn4rmLXrJ0_T",
        "colab_type": "code",
        "colab": {
          "base_uri": "https://localhost:8080/",
          "height": 34
        },
        "outputId": "15b646c5-686b-4e24-fb63-cb7467f24238"
      },
      "source": [
        "print(category_lines['Italian'][:5])"
      ],
      "execution_count": null,
      "outputs": [
        {
          "output_type": "stream",
          "text": [
            "['Abandonato', 'Abatangelo', 'Abatantuono', 'Abate', 'Abategiovanni']\n"
          ],
          "name": "stdout"
        }
      ]
    },
    {
      "cell_type": "code",
      "metadata": {
        "id": "I2GTxw1zKXnN",
        "colab_type": "code",
        "colab": {
          "base_uri": "https://localhost:8080/",
          "height": 104
        },
        "outputId": "ab33e24e-c6c8-4168-c91f-d0bd484a88c6"
      },
      "source": [
        "def letterToIndex(letter):\n",
        "  return all_letters.find(letter)\n",
        "\n",
        "def letterToTensor(letter):\n",
        "  tensor=torch.zeros(1,n_letters)\n",
        "  tensor[0,letterToIndex(letter)]=1\n",
        "  return tensor\n",
        "\n",
        "print(letterToTensor('c'))\n",
        "\n",
        "def lineToTensor(line):\n",
        "  tensor=torch.zeros(len(line),1,n_letters)\n",
        "  for li,letter in enumerate(line):\n",
        "    tensor[li,0,letterToIndex(letter)]=1\n",
        "  return tensor\n",
        "\n",
        "print(lineToTensor('JONES').size())"
      ],
      "execution_count": null,
      "outputs": [
        {
          "output_type": "stream",
          "text": [
            "tensor([[0., 0., 1., 0., 0., 0., 0., 0., 0., 0., 0., 0., 0., 0., 0., 0., 0., 0.,\n",
            "         0., 0., 0., 0., 0., 0., 0., 0., 0., 0., 0., 0., 0., 0., 0., 0., 0., 0.,\n",
            "         0., 0., 0., 0., 0., 0., 0., 0., 0., 0., 0., 0., 0., 0., 0., 0., 0., 0.,\n",
            "         0., 0., 0.]])\n",
            "torch.Size([5, 1, 57])\n"
          ],
          "name": "stdout"
        }
      ]
    },
    {
      "cell_type": "code",
      "metadata": {
        "id": "w2gu-GhXMrmI",
        "colab_type": "code",
        "colab": {
          "base_uri": "https://localhost:8080/",
          "height": 69
        },
        "outputId": "7d1c9617-af5e-4763-9ec0-1182553ad154"
      },
      "source": [
        "class RNN (nn.Module):\n",
        "  def __init__ (self,input_size,hidden_size,output_size):\n",
        "    super(RNN, self).__init__()   #This is calling the __init__() method of the parent class of RNN, in this case, nn.Module.\n",
        "    self.hidden_size=hidden_size\n",
        "    self.i2h=nn.Linear(input_size+hidden_size ,hidden_size)\n",
        "    self.i2o=nn.Linear(input_size+hidden_size,output_size)\n",
        "    self.softmax=nn.LogSoftmax (dim=1)\n",
        "  \n",
        "  def forward(self,input,hidden):\n",
        "    # print(input.size(),hidden.size())\n",
        "    combined=torch.cat((input,hidden),1)\n",
        "    # print(combined.size())\n",
        "    hidden=self.i2h(combined)\n",
        "    output=self.i2o(combined)\n",
        "    output=self.softmax(output)\n",
        "    return output,hidden\n",
        "\n",
        "  def initHidden(self):\n",
        "    return torch.zeros(1,self.hidden_size)\n",
        "\n",
        "n_hidden=128\n",
        "rnn=RNN(n_letters,n_hidden,n_categories)\n",
        "input=lineToTensor('Albert')\n",
        "hidden=rnn.initHidden()\n",
        "output,next_hidden=rnn(input[0],hidden)\n",
        "output"
      ],
      "execution_count": null,
      "outputs": [
        {
          "output_type": "execute_result",
          "data": {
            "text/plain": [
              "tensor([[-2.9642, -2.8484, -2.9541, -2.8321, -2.8530, -2.8462, -2.8798, -2.9380,\n",
              "         -2.9222, -2.8982, -2.9095, -2.9196, -2.9177, -2.9593, -2.9138, -2.7878,\n",
              "         -2.8723, -2.8320]], grad_fn=<LogSoftmaxBackward>)"
            ]
          },
          "metadata": {
            "tags": []
          },
          "execution_count": 24
        }
      ]
    },
    {
      "cell_type": "code",
      "metadata": {
        "id": "WTqON6Dq23uW",
        "colab_type": "code",
        "colab": {
          "base_uri": "https://localhost:8080/",
          "height": 34
        },
        "outputId": "1bf71db8-c1c5-440f-d587-ad9fcaac85f8"
      },
      "source": [
        "def categoryFromOutput(output):\n",
        "  top_n,top_i=output.topk(1)\n",
        "  category_i=top_i.item()\n",
        "  return all_categories[category_i],category_i\n",
        "  \n",
        "categoryFromOutput(output)"
      ],
      "execution_count": null,
      "outputs": [
        {
          "output_type": "execute_result",
          "data": {
            "text/plain": [
              "('Vietnamese', 15)"
            ]
          },
          "metadata": {
            "tags": []
          },
          "execution_count": 25
        }
      ]
    },
    {
      "cell_type": "code",
      "metadata": {
        "id": "U7L9g_xh9KeQ",
        "colab_type": "code",
        "colab": {
          "base_uri": "https://localhost:8080/",
          "height": 191
        },
        "outputId": "5cb2dae6-2081-420d-ce40-f95fb3aa5351"
      },
      "source": [
        "\n",
        "import random\n",
        "\n",
        "def randomChoice(l):\n",
        "  return l[random.randint(0,len(l)-1)]\n",
        "\n",
        "def randomTrainingExample():\n",
        "  category=randomChoice(all_categories)\n",
        "  line=randomChoice(category_lines[category])\n",
        "  category_tensor=torch.tensor([all_categories.index(category)],dtype=torch.long)   #64-bit integer (signed)  {torch.int64 or torch.long}\n",
        "\n",
        "  line_tensor=lineToTensor(line)\n",
        "  return category,line,category_tensor,line_tensor\n",
        "\n",
        "for i in range(10):\n",
        "    category, line, category_tensor, line_tensor = randomTrainingExample()\n",
        "    print('category =', category, '/ line =', category_tensor)"
      ],
      "execution_count": null,
      "outputs": [
        {
          "output_type": "stream",
          "text": [
            "category = Spanish / line = tensor([3])\n",
            "category = Japanese / line = tensor([10])\n",
            "category = German / line = tensor([12])\n",
            "category = Greek / line = tensor([13])\n",
            "category = Dutch / line = tensor([17])\n",
            "category = Greek / line = tensor([13])\n",
            "category = Italian / line = tensor([7])\n",
            "category = Korean / line = tensor([14])\n",
            "category = Irish / line = tensor([2])\n",
            "category = Scottish / line = tensor([5])\n"
          ],
          "name": "stdout"
        }
      ]
    },
    {
      "cell_type": "code",
      "metadata": {
        "id": "EI_tEzyKLV3Y",
        "colab_type": "code",
        "colab": {}
      },
      "source": [
        "criterion=nn.NLLLoss()\n",
        "learning_rate = 0.005\n",
        "def train(category_tensor,line_tensor):\n",
        "  hidden=rnn.initHidden()\n",
        "  rnn.zero_grad()    #Sets gradients of all model parameters to zero.\n",
        "  for i in range(line_tensor.size()[0]):\n",
        "    output,hidden=rnn(line_tensor[i],hidden)\n",
        "  # print(output)\n",
        "  loss=criterion(output,category_tensor)\n",
        "  loss.backward()\n",
        "\n",
        "  for p in rnn.parameters():\n",
        "    p.data.add_(p.grad.data,alpha=-learning_rate)  # Add parameters' gradients to their values, multiplied by learning rate\n",
        "    # print(p.grad.data)\n",
        "  return output,loss.item()\n",
        "\n",
        "# a,b,c,d=randomTrainingExample()\n",
        "# # print(c)\n",
        "# train(c,d)"
      ],
      "execution_count": null,
      "outputs": []
    },
    {
      "cell_type": "code",
      "metadata": {
        "id": "7ooC12bvPdgc",
        "colab_type": "code",
        "colab": {
          "base_uri": "https://localhost:8080/",
          "height": 364
        },
        "outputId": "9a381127-a2c5-49a2-d470-98b91f3e01ae"
      },
      "source": [
        "import time\n",
        "import math\n",
        "n_iters=100000\n",
        "print_every=5000\n",
        "plot_every=1000\n",
        "current_loss=0\n",
        "all_losses=[]\n",
        "def timeSince(since):\n",
        "  now=time.time()\n",
        "  s=now-since\n",
        "  m=math.floor(s/60)\n",
        "  s -= m*60\n",
        "  return '%dm %ds' %(m,s)\n",
        "\n",
        "start=time.time()\n",
        "\n",
        "for iter in range(1,n_iters+1):\n",
        "  category,line,category_tensor,line_tensor=randomTrainingExample()\n",
        "  output,loss=train(category_tensor,line_tensor)\n",
        "  current_loss += loss\n",
        "\n",
        "  if iter % print_every == 0:\n",
        "    guess,guess_i=categoryFromOutput(output)\n",
        "    correct='✓' if guess == category else '✗ (%s)' %category\n",
        "    print('%d,%d%% %s %.4f %s / %s %s'%(iter,iter/n_iters*100,timeSince(start),loss,line,guess,correct))\n",
        "\n",
        "  if iter % plot_every ==0:\n",
        "    all_losses.append(current_loss/plot_every)\n",
        "    current_loss=0"
      ],
      "execution_count": null,
      "outputs": [
        {
          "output_type": "stream",
          "text": [
            "5000,5% 0m 7s 2.7594 Bowler / German ✗ (English)\n",
            "10000,10% 0m 14s 1.8639 Minami / Japanese ✓\n",
            "15000,15% 0m 21s 1.1534 Cao / Vietnamese ✗ (Chinese)\n",
            "20000,20% 0m 28s 3.3827 Bagaev / Irish ✗ (Russian)\n",
            "25000,25% 0m 35s 0.7580 Shi / Chinese ✓\n",
            "30000,30% 0m 42s 0.5095 Avgerinos / Greek ✓\n",
            "35000,35% 0m 49s 2.9158 Porras / Greek ✗ (Spanish)\n",
            "40000,40% 0m 56s 1.5562 Brivio / Portuguese ✗ (Italian)\n",
            "45000,45% 1m 3s 1.6365 Iwahashi / Arabic ✗ (Japanese)\n",
            "50000,50% 1m 10s 4.7713 Boutros / Greek ✗ (Arabic)\n",
            "55000,55% 1m 16s 2.3031 Schwarz / Polish ✗ (Czech)\n",
            "60000,60% 1m 23s 3.8680 Jones / Dutch ✗ (Scottish)\n",
            "65000,65% 1m 30s 0.3712 Sarraf / Arabic ✓\n",
            "70000,70% 1m 37s 3.5380 Maas / Chinese ✗ (Dutch)\n",
            "75000,75% 1m 44s 0.7097 Kouri / Arabic ✓\n",
            "80000,80% 1m 50s 0.6798 Chu / Vietnamese ✓\n",
            "85000,85% 1m 57s 0.4821 Souza / Portuguese ✓\n",
            "90000,90% 2m 4s 2.2549 Toman / Irish ✗ (Czech)\n",
            "95000,95% 2m 12s 0.3216 Rheem / Korean ✓\n",
            "100000,100% 2m 18s 1.6086 Cruz / Spanish ✗ (Portuguese)\n"
          ],
          "name": "stdout"
        }
      ]
    },
    {
      "cell_type": "code",
      "metadata": {
        "id": "zt3GpawucOua",
        "colab_type": "code",
        "colab": {
          "base_uri": "https://localhost:8080/",
          "height": 282
        },
        "outputId": "9b976832-9faf-49e4-ca38-cfcd435cf59d"
      },
      "source": [
        "import matplotlib.pyplot as plt\n",
        "import matplotlib.ticker as ticker\n",
        "plt.figure()\n",
        "plt.plot(all_losses)"
      ],
      "execution_count": null,
      "outputs": [
        {
          "output_type": "execute_result",
          "data": {
            "text/plain": [
              "[<matplotlib.lines.Line2D at 0x7f3ac27d4438>]"
            ]
          },
          "metadata": {
            "tags": []
          },
          "execution_count": 12
        },
        {
          "output_type": "display_data",
          "data": {
            "image/png": "[encoded data removed]",
            "text/plain": [
              "<Figure size 432x288 with 1 Axes>"
            ]
          },
          "metadata": {
            "tags": [],
            "needs_background": "light"
          }
        }
      ]
    },
    {
      "cell_type": "markdown",
      "metadata": {
        "id": "CjmXnFvld8OZ",
        "colab_type": "text"
      },
      "source": [
        "***CONFUSION MATRIX***"
      ]
    },
    {
      "cell_type": "code",
      "metadata": {
        "id": "n0QbMI7Bd71x",
        "colab_type": "code",
        "colab": {
          "base_uri": "https://localhost:8080/",
          "height": 320
        },
        "outputId": "4669ba17-f270-4d35-b125-1d813f56c764"
      },
      "source": [
        "#keep track of correct guesses in confusion matrix\n",
        "import matplotlib.ticker as ticker\n",
        "confusion = torch.zeros(n_categories,n_categories)\n",
        "n_confussion=10000\n",
        "def evaluate(line_tensor):\n",
        "  hidden = rnn.initHidden()\n",
        "  for i in range(line_tensor.size()[0]):\n",
        "    output,hidden=rnn(line_tensor[i],hidden)\n",
        "  return output\n",
        "\n",
        "for i in range (n_confussion):\n",
        "  category,line,category_tensor,line_tensor=randomTrainingExample()\n",
        "  output=evaluate(line_tensor)\n",
        "  guess,guess_i=categoryFromOutput(output)\n",
        "  category_i=all_categories.index(category)\n",
        "  confusion[category_i][guess_i]+=1\n",
        "\n",
        "for i in range(n_categories):\n",
        "  confusion[i]  =confusion[i]/confusion[i].sum()\n",
        "\n",
        "fig=plt.figure()\n",
        "ax=fig.add_subplot(111)\n",
        "cax=ax.matshow(confusion.numpy())\n",
        "fig.colorbar(cax)\n",
        "\n",
        "ax.set_xticklabels(all_categories,rotation=90)\n",
        "ax.set_yticklabels(all_categories)\n",
        "ax.xaxis.set_major_locator(ticker.MultipleLocator(1))\n",
        "ax.yaxis.set_major_locator(ticker.MultipleLocator(1))\n",
        "plt.show()"
      ],
      "execution_count": null,
      "outputs": [
        {
          "output_type": "display_data",
          "data": {
            "image/png": "[encoded data removed]",
            "text/plain": [
              "<Figure size 432x288 with 2 Axes>"
            ]
          },
          "metadata": {
            "tags": [],
            "needs_background": "light"
          }
        }
      ]
    },
    {
      "cell_type": "code",
      "metadata": {
        "id": "AxVGZjHixIaH",
        "colab_type": "code",
        "colab": {
          "base_uri": "https://localhost:8080/",
          "height": 104
        },
        "outputId": "58905c9c-1db8-4d69-dd49-d177dc7df8e9"
      },
      "source": [
        "def predict(input_line,n_predictions=3):\n",
        "  print('\\n %s'%input_line)\n",
        "  with torch.no_grad():\n",
        "    output=evaluate(lineToTensor(input_line))\n",
        "    topv,topi=output.topk(n_predictions)\n",
        "    # predictions=[]\n",
        "\n",
        "    for i in range(n_predictions):\n",
        "      value=topv[0][i].item()\n",
        "      category_index=topi[0][i].item()\n",
        "      print('(%.2f) %s'%(value,all_categories[category_index]))\n",
        "\n",
        "# predict('Dovesky')\n",
        "# predict('Jackson')\n",
        "predict('Wilson')"
      ],
      "execution_count": null,
      "outputs": [
        {
          "output_type": "stream",
          "text": [
            "\n",
            " Wilson\n",
            "(-0.16) Scottish\n",
            "(-2.53) English\n",
            "(-3.25) Polish\n"
          ],
          "name": "stdout"
        }
      ]
    }
  ]
}