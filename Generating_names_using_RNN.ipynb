{
  "nbformat": 4,
  "nbformat_minor": 0,
  "metadata": {
    "colab": {
      "name": "Generating names using RNN",
      "provenance": [],
      "collapsed_sections": [],
      "mount_file_id": "1nxYRWNqrAJ1C884qi-8RuxaaDB9d8RCF",
      "authorship_tag": "ABX9TyP20GVUT2tXQoIQ/hlolPrs",
      "include_colab_link": true
    },
    "kernelspec": {
      "name": "python3",
      "display_name": "Python 3"
    },
    "accelerator": "GPU"
  },
  "cells": [
    {
      "cell_type": "markdown",
      "metadata": {
        "id": "view-in-github",
        "colab_type": "text"
      },
      "source": [
        "<a href=\"https://colab.research.google.com/github/nilakshi104/Classifying-name-with-character-level-RNN/blob/master/Generating_names_using_RNN.ipynb\" target=\"_parent\"><img src=\"https://colab.research.google.com/assets/colab-badge.svg\" alt=\"Open In Colab\"/></a>"
      ]
    },
    {
      "cell_type": "code",
      "metadata": {
        "id": "rRxCjPrSO03L",
        "colab_type": "code",
        "colab": {}
      },
      "source": [
        "from __future__ import print_function,division\n",
        "from io import open\n",
        "import os\n",
        "import glob\n",
        "import unicodedata\n",
        "import string\n",
        "import torch\n",
        "import torch.nn as nn"
      ],
      "execution_count": 1,
      "outputs": []
    },
    {
      "cell_type": "code",
      "metadata": {
        "id": "B8pPquBXQ5Iy",
        "colab_type": "code",
        "colab": {
          "base_uri": "https://localhost:8080/",
          "height": 35
        },
        "outputId": "d044cc76-0ea1-4bfc-d027-369175589dc4"
      },
      "source": [
        "all_letters=string.ascii_letters+\" .,;'-\"\n",
        "n_letters=len(all_letters)\n",
        "all_letters[57]"
      ],
      "execution_count": 2,
      "outputs": [
        {
          "output_type": "execute_result",
          "data": {
            "application/vnd.google.colaboratory.intrinsic": {
              "type": "string"
            },
            "text/plain": [
              "'-'"
            ]
          },
          "metadata": {
            "tags": []
          },
          "execution_count": 2
        }
      ]
    },
    {
      "cell_type": "code",
      "metadata": {
        "id": "2Fgug94BWJBC",
        "colab_type": "code",
        "colab": {
          "base_uri": "https://localhost:8080/",
          "height": 34
        },
        "outputId": "7acddf9c-7952-4c70-ac53-ba52f8a890cb"
      },
      "source": [
        "#turn a unicode string to plain ASCII \n",
        "def unicodeToAscii(s):\n",
        "  return ''.join(\n",
        "      c for c in unicodedata.normalize('NFD',s)\n",
        "      if unicodedata.category(c) != 'Mn'\n",
        "      and c in all_letters\n",
        "  )\n",
        "\n",
        "#Read a file and split into lines \n",
        "#we cant directly store unicode to system so we need to decode it\n",
        "def readLines(filename):\n",
        "  lines=open(filename,encoding='utf-8').read().strip().split('\\n')\n",
        "  return [unicodeToAscii(line) for line in lines]\n",
        "\n",
        "category_lines = {}\n",
        "all_categories = []\n",
        "for filename in glob.glob('/content/drive/My Drive/data/character level RNN/data/names/*.txt'):\n",
        "  category = filename.split('/')[-1].split('.')[0]\n",
        "  all_categories.append(category)\n",
        "  lines = readLines(filename)\n",
        "  category_lines[category] = lines\n",
        "\n",
        "n_categories=len(all_categories)\n",
        "\n",
        "\n",
        "print(unicodeToAscii(\"O'NéàlѼla\"))"
      ],
      "execution_count": 3,
      "outputs": [
        {
          "output_type": "stream",
          "text": [
            "O'Nealla\n"
          ],
          "name": "stdout"
        }
      ]
    },
    {
      "cell_type": "code",
      "metadata": {
        "id": "Nkrr2ntIY0vh",
        "colab_type": "code",
        "colab": {
          "base_uri": "https://localhost:8080/",
          "height": 347
        },
        "outputId": "31283639-bdcc-44d6-dc16-53283ea6064c"
      },
      "source": [
        "glob.glob('/content/drive/My Drive/data/character level RNN/data/names/*.txt')  #prints whole address\n",
        "print('_________________________')\n",
        "os.listdir('/content/drive/My Drive/data/character level RNN/data/names/')  #prints only name of folders in it "
      ],
      "execution_count": 4,
      "outputs": [
        {
          "output_type": "stream",
          "text": [
            "_________________________\n"
          ],
          "name": "stdout"
        },
        {
          "output_type": "execute_result",
          "data": {
            "text/plain": [
              "['French.txt',\n",
              " 'Chinese.txt',\n",
              " 'Irish.txt',\n",
              " 'Spanish.txt',\n",
              " 'English.txt',\n",
              " 'Scottish.txt',\n",
              " 'Czech.txt',\n",
              " 'Italian.txt',\n",
              " 'Polish.txt',\n",
              " 'Russian.txt',\n",
              " 'Japanese.txt',\n",
              " 'Portuguese.txt',\n",
              " 'German.txt',\n",
              " 'Greek.txt',\n",
              " 'Korean.txt',\n",
              " 'Vietnamese.txt',\n",
              " 'Arabic.txt',\n",
              " 'Dutch.txt']"
            ]
          },
          "metadata": {
            "tags": []
          },
          "execution_count": 4
        }
      ]
    },
    {
      "cell_type": "code",
      "metadata": {
        "id": "4Ptv_4bYa6-l",
        "colab_type": "code",
        "colab": {}
      },
      "source": [
        "class RNN(nn.Module):\n",
        "  def __init__(self,category_size,input_size,hidden_size,output_size):\n",
        "    super(RNN,self).__init__()\n",
        "    self.hidden_size=hidden_size\n",
        "    self.i2o=nn.Linear(category_size+input_size+hidden_size,output_size)\n",
        "    self.i2h=nn.Linear(category_size+input_size+hidden_size,hidden_size)\n",
        "    self.o2o=nn.Linear(output_size+hidden_size,input_size)\n",
        "    self.dropout=nn.Dropout(0.1)\n",
        "    self.softmax=nn.LogSoftmax(dim=1)\n",
        "\n",
        "  def forward(self,category,input,hidden):\n",
        "    combined=torch.cat((category,input,hidden),1)\n",
        "    output1=self.i2o(combined)\n",
        "    hidden=self.i2h(combined)\n",
        "    out_combined=torch.cat((output1,hidden),1)\n",
        "    output2=self.o2o(out_combined)\n",
        "    dropout=self.dropout(output2)\n",
        "    output=self.softmax(dropout)\n",
        "    return output,hidden\n",
        "\n",
        "  def initHidden(self):\n",
        "    return torch.zeros(1,self.hidden_size)\n",
        "\n",
        "\n",
        "\n",
        "rnn=RNN(n_categories,n_letters,128,n_letters)"
      ],
      "execution_count": 5,
      "outputs": []
    },
    {
      "cell_type": "code",
      "metadata": {
        "id": "Z273n9kDp1Lg",
        "colab_type": "code",
        "colab": {}
      },
      "source": [
        "import random\n",
        "\n",
        "def randomChoice(l):\n",
        "  return l[random.randint(0,len(l)-1)]\n",
        "\n",
        "def randomTrainingPair():\n",
        "  category=randomChoice(all_categories)\n",
        "  line=randomChoice(category_lines[category])\n",
        "  return category,line\n",
        "\n",
        "def categoryTensor(category):\n",
        "  li=all_categories.index(category)\n",
        "  tensor=torch.zeros(1,n_categories)\n",
        "  tensor[0][li]=1\n",
        "  return tensor\n",
        "\n",
        "#CONSIDER IF INPUT IS 'Company' then input:is one hot codded rep of 'Company' and output contains index of word 'ompany' and <EOS> (here <EOS> is denoted by - so included '-' in last)\n",
        "\n",
        "def inputTensor (line):\n",
        "  tensor=torch.zeros(len(line),n_letters)\n",
        "  for li,letter in enumerate(line):\n",
        "    tensor[li,all_letters.find(letter)]=1\n",
        "  return tensor\n",
        "\n",
        "def targetTensor(line):\n",
        "  letter_indexes=[all_letters.find(line[li]) for li in range(1,len(line))]\n",
        "  letter_indexes.append(n_letters-1)\n",
        "  return torch.LongTensor(letter_indexes).unsqueeze(1)\n",
        "\n",
        "#Make category,input and target tensors from a random category,line pair\n",
        "def randomTrainingExample():\n",
        "  category,line=randomTrainingPair()\n",
        "  category_tensor=categoryTensor(category)\n",
        "  input_line_tensor=inputTensor(line)\n",
        "  target_line_tensor=targetTensor(line)\n",
        "  return category_tensor,input_line_tensor,target_line_tensor\n"
      ],
      "execution_count": 6,
      "outputs": []
    },
    {
      "cell_type": "code",
      "metadata": {
        "id": "uWcE2X_7C3Ed",
        "colab_type": "code",
        "colab": {
          "base_uri": "https://localhost:8080/",
          "height": 34
        },
        "outputId": "c62caf13-f79d-4bd6-f141-8d1cbaab6752"
      },
      "source": [
        "targetTensor('dkdbcdsvc').size()"
      ],
      "execution_count": 7,
      "outputs": [
        {
          "output_type": "execute_result",
          "data": {
            "text/plain": [
              "torch.Size([9, 1])"
            ]
          },
          "metadata": {
            "tags": []
          },
          "execution_count": 7
        }
      ]
    },
    {
      "cell_type": "code",
      "metadata": {
        "id": "mRZImymJ8mdg",
        "colab_type": "code",
        "colab": {
          "base_uri": "https://localhost:8080/",
          "height": 630
        },
        "outputId": "9b3b80df-9dc0-4dc1-db32-9351a7177ff1"
      },
      "source": [
        "criterion=nn.NLLLoss()\n",
        "learning_rate=0.0005\n",
        "n_iters=100000\n",
        "\n",
        "print_every=5000\n",
        "plot_every=500\n",
        "\n",
        "\n",
        "losses=[]\n",
        "total_loss=0\n",
        "import matplotlib.pyplot as plt\n",
        "import matplotlib.ticker as ticker\n",
        "for iter in range(n_iters):\n",
        "  \n",
        "  loss=0\n",
        "  hidden=rnn.initHidden()\n",
        "  rnn.zero_grad()\n",
        "  category_tensor,input_line_tensor,target_line_tensor=randomTrainingExample()\n",
        "  for i in range(input_line_tensor.size(0)):\n",
        "    output,hidden=rnn(category_tensor,input_line_tensor[i].unsqueeze(0),hidden)\n",
        "    loss +=criterion(output,target_line_tensor[i])\n",
        "  total_loss+=loss/input_line_tensor.size(0)\n",
        "  loss.backward()\n",
        "  for p in rnn.parameters():\n",
        "    p.data.add_(p.grad.data,alpha=-learning_rate)\n",
        "\n",
        "  if iter % print_every==0:\n",
        "    print('(%d %d%%) %d'%(iter,iter/n_iters*100,loss/input_line_tensor.size(0)))\n",
        "\n",
        "  if iter % plot_every ==0:\n",
        "    losses.append(total_loss/plot_every)\n",
        "    total_loss=0\n",
        "    \n",
        "plt.figure()\n",
        "plt.plot(losses)\n",
        "\n",
        "  \n",
        "\n"
      ],
      "execution_count": 8,
      "outputs": [
        {
          "output_type": "stream",
          "text": [
            "(0 0%) 4\n",
            "(5000 5%) 2\n",
            "(10000 10%) 2\n",
            "(15000 15%) 3\n",
            "(20000 20%) 3\n",
            "(25000 25%) 2\n",
            "(30000 30%) 2\n",
            "(35000 35%) 2\n",
            "(40000 40%) 2\n",
            "(45000 45%) 1\n",
            "(50000 50%) 0\n",
            "(55000 55%) 2\n",
            "(60000 60%) 1\n",
            "(65000 65%) 2\n",
            "(70000 70%) 2\n",
            "(75000 75%) 1\n",
            "(80000 80%) 2\n",
            "(85000 85%) 2\n",
            "(90000 90%) 2\n",
            "(95000 95%) 3\n"
          ],
          "name": "stdout"
        },
        {
          "output_type": "execute_result",
          "data": {
            "text/plain": [
              "[<matplotlib.lines.Line2D at 0x7fb1b3751dd8>]"
            ]
          },
          "metadata": {
            "tags": []
          },
          "execution_count": 8
        },
        {
          "output_type": "display_data",
          "data": {
            "image/png": "[encoded data removed]",
            "text/plain": [
              "<Figure size 432x288 with 1 Axes>"
            ]
          },
          "metadata": {
            "tags": [],
            "needs_background": "light"
          }
        }
      ]
    },
    {
      "cell_type": "markdown",
      "metadata": {
        "id": "dg3csKwLFMjS",
        "colab_type": "text"
      },
      "source": [
        "If we just want to predict word ,no need of category_tensor.As here we want to predict words in every language so extra category_tensor is provided to distinguish between words of different origin"
      ]
    },
    {
      "cell_type": "code",
      "metadata": {
        "id": "Kgqxg9Ul-PWn",
        "colab_type": "code",
        "colab": {
          "base_uri": "https://localhost:8080/",
          "height": 69
        },
        "outputId": "8165326d-3c4f-4248-92b8-d12ae15eeab6"
      },
      "source": [
        "max_length=20\n",
        "\n",
        "#sample from category and starting_letter\n",
        "def sample(category,start_letter='A'):\n",
        "  with torch.no_grad():\n",
        "    category_tensor=categoryTensor(category)\n",
        "    input=inputTensor(start_letter)\n",
        "    hidden=rnn.initHidden()\n",
        "\n",
        "    output_name=start_letter\n",
        "\n",
        "    for i in range(max_length):\n",
        "      output,hidden=rnn(category_tensor,input[0].unsqueeze(0),hidden)\n",
        "      topv,topi=output.topk(1)            #topv=top_probability,topi=indices\n",
        "      topi=topi[0][0]\n",
        "      if topi==n_letters-1:\n",
        "        break\n",
        "      else:\n",
        "        letter=all_letters[topi]\n",
        "        output_name+=letter\n",
        "      input=inputTensor(letter)\n",
        "\n",
        "    return output_name\n",
        "\n",
        "#get multiple samples from one catgory and multiple satrting letters\n",
        "def samples(category,start_letters='ABC'):\n",
        "  for start_letter in start_letters:\n",
        "    print(sample(category,start_letter))\n",
        "  \n",
        "\n",
        "samples('Russian','RUS')\n"
      ],
      "execution_count": 11,
      "outputs": [
        {
          "output_type": "stream",
          "text": [
            "Rovakov\n",
            "Uarinov\n",
            "Sharavak\n"
          ],
          "name": "stdout"
        }
      ]
    },
    {
      "cell_type": "code",
      "metadata": {
        "id": "UtBX7srPuD6y",
        "colab_type": "code",
        "colab": {
          "base_uri": "https://localhost:8080/",
          "height": 69
        },
        "outputId": "6edf07be-75a2-47b2-e4e7-5dbcf9b0d23d"
      },
      "source": [
        "samples('German','GER')"
      ],
      "execution_count": 12,
      "outputs": [
        {
          "output_type": "stream",
          "text": [
            "Gello\n",
            "Eerran\n",
            "Rongel\n"
          ],
          "name": "stdout"
        }
      ]
    },
    {
      "cell_type": "code",
      "metadata": {
        "id": "BkoxGhu95ooh",
        "colab_type": "code",
        "colab": {
          "base_uri": "https://localhost:8080/",
          "height": 69
        },
        "outputId": "de696adf-fb26-4aa4-c37a-8699fdf6d11a"
      },
      "source": [
        "samples('Spanish','SPA')"
      ],
      "execution_count": 13,
      "outputs": [
        {
          "output_type": "stream",
          "text": [
            "Soner\n",
            "Para\n",
            "Arana\n"
          ],
          "name": "stdout"
        }
      ]
    },
    {
      "cell_type": "code",
      "metadata": {
        "id": "ZjTOXVRY5sTN",
        "colab_type": "code",
        "colab": {
          "base_uri": "https://localhost:8080/",
          "height": 69
        },
        "outputId": "9b2aa712-3727-45b1-dcf7-f6bdd66f898a"
      },
      "source": [
        "samples('Chinese','CHI')"
      ],
      "execution_count": 14,
      "outputs": [
        {
          "output_type": "stream",
          "text": [
            "Cha\n",
            "Ha\n",
            "Iu\n"
          ],
          "name": "stdout"
        }
      ]
    },
    {
      "cell_type": "code",
      "metadata": {
        "id": "1bx_CY4I68wD",
        "colab_type": "code",
        "colab": {
          "base_uri": "https://localhost:8080/",
          "height": 69
        },
        "outputId": "066bc113-cfa5-4ad8-9b32-b7d748a23534"
      },
      "source": [
        "samples('English','PJW')"
      ],
      "execution_count": 20,
      "outputs": [
        {
          "output_type": "stream",
          "text": [
            "Panter\n",
            "Jander\n",
            "Wanter\n"
          ],
          "name": "stdout"
        }
      ]
    },
    {
      "cell_type": "code",
      "metadata": {
        "id": "V79WWV-BDXO4",
        "colab_type": "code",
        "colab": {
          "base_uri": "https://localhost:8080/",
          "height": 35
        },
        "outputId": "8d3874b0-9db6-43be-9826-7a5bbef64d7f"
      },
      "source": [
        "letter_new=string.ascii_letters\n",
        "letter_new"
      ],
      "execution_count": 35,
      "outputs": [
        {
          "output_type": "execute_result",
          "data": {
            "application/vnd.google.colaboratory.intrinsic": {
              "type": "string"
            },
            "text/plain": [
              "'abcdefghijklmnopqrstuvwxyzABCDEFGHIJKLMNOPQRSTUVWXYZ'"
            ]
          },
          "metadata": {
            "tags": []
          },
          "execution_count": 35
        }
      ]
    },
    {
      "cell_type": "code",
      "metadata": {
        "id": "HIkafKBp7C_l",
        "colab_type": "code",
        "colab": {}
      },
      "source": [
        "wd=1e-7\n",
        "lr=0.0005\n",
        "from torch.optim.lr_scheduler import MultiStepLR\n",
        "import torch.optim as optim\n",
        "\n",
        "model=RNN(n_categories,n_letters,128,n_letters)\n",
        "optimizer = optim.Adam(model.parameters(),\n",
        "                       lr=lr,\n",
        "                       weight_decay=wd,\n",
        "                       betas = (0.9, 0.99),\n",
        "                       eps = 1e-06)\n",
        "\n",
        "scheduler = MultiStepLR(optimizer, milestones=[30, 50], gamma=0.1)\n",
        "\n",
        "class Trainer(object):\n",
        "  def __init__(self,model,n_iters,criterion,optimizer,scheduler):\n",
        "    super(Trainer,self).__init__()\n",
        "    self.model=model\n",
        "    self.n_iters=n_iters\n",
        "    self.criterion=criterion\n",
        "    self.optimizer=optimizer\n",
        "    self.scheduler=scheduler\n",
        "\n",
        "  def train(self):\n",
        "    print_every=5000\n",
        "    plot_every=500\n",
        "    losses=[]\n",
        "    total_loss=0\n",
        "    for iter in range(self.n_iters):\n",
        "      loss=0\n",
        "      self.model.train()\n",
        "      hidden=self.model.initHidden()\n",
        "      self.optimizer.zero_grad()\n",
        "      category_tensor,input_line_tensor,target_line_tensor=randomTrainingExample()\n",
        "      for i in range(input_line_tensor.size(0)):\n",
        "        output,hidden=rnn(category_tensor,input_line_tensor[i].unsqueeze(0),hidden)\n",
        "        loss +=criterion(output,target_line_tensor[i])\n",
        "      total_loss+=loss/input_line_tensor.size(0)\n",
        "      loss.backward()\n",
        "      # for p in rnn.parameters():\n",
        "      #   p.data.add_(p.grad.data,alpha=-learning_rate)\n",
        "      self.optimizer.step()\n",
        "      self.scheduler.step()\n",
        "      if iter % print_every==0:\n",
        "        print('(%d %d%%) %d'%(iter,iter/n_iters*100,loss/input_line_tensor.size(0)))\n",
        "        self.model.eval()\n",
        "        category=randomChoice(all_categories)\n",
        "        j=''\n",
        "        for i in range(3):\n",
        "          j+=randomChoice(letter_new)\n",
        "        print('______________')\n",
        "        print(category+':')\n",
        "        samples(category,j)\n",
        "        print('______________')\n",
        "\n",
        "      if iter % plot_every ==0:\n",
        "        losses.append(total_loss/plot_every)\n",
        "        total_loss=0\n",
        "\n",
        "      \n",
        "    plt.figure()\n",
        "    plt.plot(losses)\n",
        "\n",
        "  \n",
        "      \n",
        "\n"
      ],
      "execution_count": 40,
      "outputs": []
    },
    {
      "cell_type": "code",
      "metadata": {
        "id": "UkAoB4pI_38A",
        "colab_type": "code",
        "colab": {
          "base_uri": "https://localhost:8080/",
          "height": 1000
        },
        "outputId": "78ca1363-3d6e-45a3-964b-ac9e1d4ffe8f"
      },
      "source": [
        "trainer = Trainer(model,\n",
        "                  n_iters,\n",
        "                  criterion,\n",
        "                  optimizer,\n",
        "                  scheduler)\n",
        "trainer.train()"
      ],
      "execution_count": 41,
      "outputs": [
        {
          "output_type": "stream",
          "text": [
            "(0 0%) 2\n",
            "______________\n",
            "Vietnamese:\n",
            "fan\n",
            "van\n",
            "Chan\n",
            "______________\n",
            "(5000 5%) 2\n",
            "______________\n",
            "Spanish:\n",
            "eran\n",
            "erara\n",
            "tanera\n",
            "______________\n",
            "(10000 10%) 2\n",
            "______________\n",
            "Italian:\n",
            "barich\n",
            "farichi\n",
            "pongilon\n",
            "______________\n",
            "(15000 15%) 2\n",
            "______________\n",
            "English:\n",
            "Ronger\n",
            "Panter\n",
            "rander\n",
            "______________\n",
            "(20000 20%) 2\n",
            "______________\n",
            "Irish:\n",
            "xangan\n",
            "vanghan\n",
            "Iangal\n",
            "______________\n",
            "(25000 25%) 1\n",
            "______________\n",
            "Portuguese:\n",
            "Lares\n",
            "Wares\n",
            "Danger\n",
            "______________\n",
            "(30000 30%) 1\n",
            "______________\n",
            "Portuguese:\n",
            "Nara\n",
            "jares\n",
            "noser\n",
            "______________\n",
            "(35000 35%) 2\n",
            "______________\n",
            "Scottish:\n",
            "Zangers\n",
            "Ollon\n",
            "xandon\n",
            "______________\n",
            "(40000 40%) 2\n",
            "______________\n",
            "Japanese:\n",
            "chamama\n",
            "waki\n",
            "Uaka\n",
            "______________\n",
            "(45000 45%) 2\n",
            "______________\n",
            "Portuguese:\n",
            "Derra\n",
            "iras\n",
            "Kares\n",
            "______________\n",
            "(50000 50%) 3\n",
            "______________\n",
            "Portuguese:\n",
            "ganer\n",
            "hares\n",
            "jares\n",
            "______________\n",
            "(55000 55%) 2\n",
            "______________\n",
            "English:\n",
            "oron\n",
            "wander\n",
            "Yandel\n",
            "______________\n",
            "(60000 60%) 2\n",
            "______________\n",
            "Czech:\n",
            "Lako\n",
            "Gorak\n",
            "karaka\n",
            "______________\n",
            "(65000 65%) 1\n",
            "______________\n",
            "Greek:\n",
            "daras\n",
            "tanis\n",
            "Hantos\n",
            "______________\n",
            "(70000 70%) 3\n",
            "______________\n",
            "Scottish:\n",
            "Gongers\n",
            "Manter\n",
            "ponger\n",
            "______________\n",
            "(75000 75%) 2\n",
            "______________\n",
            "Japanese:\n",
            "Zaka\n",
            "Paka\n",
            "qaka\n",
            "______________\n",
            "(80000 80%) 1\n",
            "______________\n",
            "Greek:\n",
            "baris\n",
            "Hantosos\n",
            "Xistison\n",
            "______________\n",
            "(85000 85%) 2\n",
            "______________\n",
            "Korean:\n",
            "van\n",
            "en\n",
            "Uon\n",
            "______________\n",
            "(90000 90%) 1\n",
            "______________\n",
            "English:\n",
            "ranger\n",
            "xarter\n",
            "Perren\n",
            "______________\n",
            "(95000 95%) 3\n",
            "______________\n",
            "Greek:\n",
            "Santos\n",
            "baris\n",
            "danis\n",
            "______________\n"
          ],
          "name": "stdout"
        },
        {
          "output_type": "display_data",
          "data": {
            "image/png": "[encoded data removed]",
            "text/plain": [
              "<Figure size 432x288 with 1 Axes>"
            ]
          },
          "metadata": {
            "tags": [],
            "needs_background": "light"
          }
        }
      ]
    }
  ]
}